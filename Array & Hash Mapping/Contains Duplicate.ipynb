{
 "cells": [
  {
   "cell_type": "markdown",
   "metadata": {},
   "source": [
    "217. Contains Duplicate\n",
    "Given an integer array \"nums\", return \"true\" if any value appears at least twice in the array, and return \"false\" if every element is distinct.\n",
    "\n",
    "- Eg:\n",
    "- Input: nums = [1,2,3,1]\n",
    "- Output: true\n",
    "\n",
    "- Type: Array & Hashmapping\n",
    "- Difficulty: Easy\n",
    "- 219 - LC"
   ]
  },
  {
   "cell_type": "code",
   "execution_count": 1,
   "metadata": {},
   "outputs": [
    {
     "name": "stdout",
     "output_type": "stream",
     "text": [
      "False\n",
      "False\n",
      "False\n",
      "False\n"
     ]
    }
   ],
   "source": [
    "# class Solution:\n",
    "#     def containsDuplicate(self, nums: List[int]) -> bool:\n",
    "nums = [1,2,3,1]\n",
    "counter = 0\n",
    "duplicate = []\n",
    "for i in range (len(nums)):\n",
    "      if i not in duplicate:\n",
    "            duplicate.append(i)\n",
    "            #return False\n",
    "            print(\"False\")\n",
    "            print (duplicate)\n",
    "      else:\n",
    "            counter += 1\n",
    "            #return True\n",
    "            print(\"True\")\n",
    "      \n",
    "    \n"
   ]
  },
  {
   "cell_type": "code",
   "execution_count": null,
   "metadata": {},
   "outputs": [],
   "source": []
  }
 ],
 "metadata": {
  "kernelspec": {
   "display_name": "Python 3",
   "language": "python",
   "name": "python3"
  },
  "language_info": {
   "codemirror_mode": {
    "name": "ipython",
    "version": 3
   },
   "file_extension": ".py",
   "mimetype": "text/x-python",
   "name": "python",
   "nbconvert_exporter": "python",
   "pygments_lexer": "ipython3",
   "version": "3.11.3"
  },
  "orig_nbformat": 4
 },
 "nbformat": 4,
 "nbformat_minor": 2
}
